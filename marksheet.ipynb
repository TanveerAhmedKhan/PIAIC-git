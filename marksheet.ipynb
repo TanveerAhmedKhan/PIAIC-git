{
 "cells": [
  {
   "cell_type": "code",
   "execution_count": 1,
   "metadata": {},
   "outputs": [
    {
     "name": "stdout",
     "output_type": "stream",
     "text": [
      "         ___ ___   ____  ____   __  _ _____ __ __    ___    ___ ______ \n",
      "        |   |   | /    ||    \\ |  |/ ] ___/|  |  |  /  _]  /  _]      |\n",
      "        | _   _ ||  o  ||  D  )|  ' (   \\_ |  |  | /  [_  /  [_|      |\n",
      "        |  \\_/  ||     ||    / |    \\__  ||  _  ||    _]|    _]_|  |_|\n",
      "        |   |   ||  _  ||    \\ |     /  \\ ||  |  ||   [_ |   [_  |  |  \n",
      "        |   |   ||  |  ||  .  \\|  .  \\    ||  |  ||     ||     | |  |  \n",
      "        |___|___||__|__||__|\\_||__|\\_|\\___||__|__||_____||_____| |__| \n",
      "--------------------------------------------------------------------------------\n",
      "\n",
      "Candidate's name :Tanveer Ahmed Khan\n",
      "Father's name :Rasheed Ahmed Khan\n",
      "Roll Number :AIC005932\n",
      "\n",
      "Enter Maths marks :92\n",
      "Enter Physics marks :90\n",
      "Enter Chemistry marks :71\n",
      "Enter Computer marks :85\n",
      "Enter English marks :55\n",
      "\n",
      "Subject               Total Marks             Marks Obtained\n",
      "********************************************************************************\n",
      "Maths                   100                     92\n",
      "Physics                 100                     90\n",
      "Chemistry               100                     71\n",
      "Computer                100                     85\n",
      "English                 100                     55\n",
      "********************************************************************************\n",
      "Total Marks             500                     393\n",
      "\n",
      "                                  Percentage = 78.60%\n",
      "\n",
      "                                  Grade      = A\n",
      "--------------------------------------------------------------------------------"
     ]
    }
   ],
   "source": [
    "print('''         ___ ___   ____  ____   __  _ _____ __ __    ___    ___ ______ \n",
    "        |   |   | /    ||    \\ |  |/ ] ___/|  |  |  /  _]  /  _]      |\n",
    "        | _   _ ||  o  ||  D  )|  ' (   \\_ |  |  | /  [_  /  [_|      |\n",
    "        |  \\_/  ||     ||    / |    \\\\__  ||  _  ||    _]|    _]_|  |_|\n",
    "        |   |   ||  _  ||    \\ |     /  \\ ||  |  ||   [_ |   [_  |  |  \n",
    "        |   |   ||  |  ||  .  \\|  .  \\    ||  |  ||     ||     | |  |  \n",
    "        |___|___||__|__||__|\\_||__|\\_|\\___||__|__||_____||_____| |__| ''')\n",
    "for i in range(80):\n",
    "    print(\"-\",end = '')\n",
    "\n",
    "name = input(\"\\n\\nCandidate's name :\")\n",
    "f_name = input (\"Father's name :\")\n",
    "roll_no = input(\"Roll Number :\")\n",
    "maths = int(input(\"\\nEnter Maths marks :\") )\n",
    "phy = int(input(\"Enter Physics marks :\"))\n",
    "chem = int(input(\"Enter Chemistry marks :\"))\n",
    "com = int(input(\"Enter Computer marks :\"))\n",
    "eng = int(input(\"Enter English marks :\"))\n",
    "print(\"\\nSubject               Total Marks             Marks Obtained\")\n",
    "for i in range(80):\n",
    "    print(\"*\",end = '')\n",
    "print(f\"\\nMaths                   100                     {maths}\")\n",
    "print(f\"Physics                 100                     {phy}\")\n",
    "print(f\"Chemistry               100                     {chem}\")\n",
    "print(f\"Computer                100                     {com}\")\n",
    "print(f\"English                 100                     {eng}\")\n",
    "\n",
    "marks_obtained = maths+phy+chem+com+eng\n",
    "per = (marks_obtained/500)*100\n",
    "for i in range(80):\n",
    "    print(\"*\",end = '')\n",
    "print(f\"\\nTotal Marks             500                     {marks_obtained}\")\n",
    "print(f\"\\n                                  Percentage = {per:.2f}%\")\n",
    "if per <50:\n",
    "    garde = 'F'\n",
    "elif per <60:\n",
    "    grade = 'C'\n",
    "elif per <70:\n",
    "    grade = 'B'\n",
    "elif per <80:\n",
    "    grade = 'A'\n",
    "elif per >=80:\n",
    "    grade = 'A+'\n",
    "print(f\"\\n                                  Grade      = {grade}\")\n",
    "for i in range(80):\n",
    "    print(\"-\",end = '')"
   ]
  },
  {
   "cell_type": "code",
   "execution_count": null,
   "metadata": {},
   "outputs": [],
   "source": []
  }
 ],
 "metadata": {
  "kernelspec": {
   "display_name": "Python 3",
   "language": "python",
   "name": "python3"
  },
  "language_info": {
   "codemirror_mode": {
    "name": "ipython",
    "version": 3
   },
   "file_extension": ".py",
   "mimetype": "text/x-python",
   "name": "python",
   "nbconvert_exporter": "python",
   "pygments_lexer": "ipython3",
   "version": "3.7.0"
  }
 },
 "nbformat": 4,
 "nbformat_minor": 2
}
